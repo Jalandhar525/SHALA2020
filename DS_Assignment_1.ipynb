{
  "nbformat": 4,
  "nbformat_minor": 0,
  "metadata": {
    "colab": {
      "name": "Assignment -1 - DS.ipynb",
      "provenance": [],
      "collapsed_sections": [],
      "include_colab_link": true
    },
    "kernelspec": {
      "name": "python3",
      "display_name": "Python 3"
    }
  },
  "cells": [
    {
      "cell_type": "markdown",
      "metadata": {
        "id": "view-in-github",
        "colab_type": "text"
      },
      "source": [
        "<a href=\"https://colab.research.google.com/github/Jalandhar525/SHALA2020/blob/master/Assignment_1_DS.ipynb\" target=\"_parent\"><img src=\"https://colab.research.google.com/assets/colab-badge.svg\" alt=\"Open In Colab\"/></a>"
      ]
    },
    {
      "cell_type": "markdown",
      "metadata": {
        "id": "hmr2U-GChnlR",
        "colab_type": "text"
      },
      "source": [
        "\n",
        "# **Assignment - 1 : Getting Started**\n",
        "\n",
        "---\n",
        "\n",
        "This assignment will get you familiarized with python libraries required for ***data science*** and ***machine learning***. You will have to complete the code snippets and run them. "
      ]
    },
    {
      "cell_type": "markdown",
      "metadata": {
        "id": "211pD45xEO0u",
        "colab_type": "text"
      },
      "source": [
        "## **Note :**   Use only the methods and attributes of the ```numpy``` library. **Do not** hard-code them. Avoid loops as much as possible."
      ]
    },
    {
      "cell_type": "markdown",
      "metadata": {
        "id": "O7v9C4mun3SQ",
        "colab_type": "text"
      },
      "source": [
        "---\n",
        "## Part - 1\n",
        " In this part, you will work with the library ```numpy```. \n",
        "\n",
        "\n"
      ]
    },
    {
      "cell_type": "markdown",
      "metadata": {
        "id": "846yDaXQwiMD",
        "colab_type": "text"
      },
      "source": [
        "Import ```numpy``` with an alias name ```np```. Initialize two arrays $a$, $b$ of size $3 \\times 5$ with random values and print them. "
      ]
    },
    {
      "cell_type": "code",
      "metadata": {
        "id": "_MyeCO3_o3oq",
        "colab_type": "code",
        "outputId": "22286de2-bbc8-4d99-baec-db9d26c15c8c",
        "colab": {
          "base_uri": "https://localhost:8080/",
          "height": 134
        }
      },
      "source": [
        "import numpy as np\n",
        "a=np.random.rand(3,5) #rand() takes arguments as integers which represents dimensions\n",
        "print(\"a={}\".format(a))\n",
        "print()\n",
        "\n",
        "b=np.random.random_sample((3,5)) #random_sample takes tuple as the argument\n",
        "print(\"b={}\".format(b))"
      ],
      "execution_count": 72,
      "outputs": [
        {
          "output_type": "stream",
          "text": [
            "a=[[0.31633519 0.59823125 0.07842754 0.86731813 0.96378565]\n",
            " [0.58693556 0.62777528 0.8681601  0.52485403 0.98608977]\n",
            " [0.51380826 0.00876857 0.27157803 0.59285629 0.89795165]]\n",
            "\n",
            "b=[[0.31028926 0.83586895 0.91981641 0.74096395 0.66657955]\n",
            " [0.18676787 0.93742494 0.54995742 0.5788779  0.26579883]\n",
            " [0.03459762 0.2628673  0.2597973  0.1295629  0.78095465]]\n"
          ],
          "name": "stdout"
        }
      ]
    },
    {
      "cell_type": "markdown",
      "metadata": {
        "id": "p7jtpYT4wiO6",
        "colab_type": "text"
      },
      "source": [
        "Initialize and print two arrays $c$ and $d$ having the following properties:\n",
        "*   $c$ is a row vector with all non-negative integer values less than 100\n",
        "* $d$ is a square matrix of size 3 having all entries as 0.0"
      ]
    },
    {
      "cell_type": "code",
      "metadata": {
        "id": "a2lJdRf8x9f2",
        "colab_type": "code",
        "outputId": "acf0ddea-76ae-40df-ef20-a1917f408776",
        "colab": {
          "base_uri": "https://localhost:8080/",
          "height": 168
        }
      },
      "source": [
        "\n",
        "c=np.arange(100)\n",
        "print(\"c={}\".format(c))\n",
        "print()\n",
        "\n",
        "d=np.zeros((3,3))\n",
        "print(\"d={}\".format(d))"
      ],
      "execution_count": 73,
      "outputs": [
        {
          "output_type": "stream",
          "text": [
            "c=[ 0  1  2  3  4  5  6  7  8  9 10 11 12 13 14 15 16 17 18 19 20 21 22 23\n",
            " 24 25 26 27 28 29 30 31 32 33 34 35 36 37 38 39 40 41 42 43 44 45 46 47\n",
            " 48 49 50 51 52 53 54 55 56 57 58 59 60 61 62 63 64 65 66 67 68 69 70 71\n",
            " 72 73 74 75 76 77 78 79 80 81 82 83 84 85 86 87 88 89 90 91 92 93 94 95\n",
            " 96 97 98 99]\n",
            "\n",
            "d=[[0. 0. 0.]\n",
            " [0. 0. 0.]\n",
            " [0. 0. 0.]]\n"
          ],
          "name": "stdout"
        }
      ]
    },
    {
      "cell_type": "markdown",
      "metadata": {
        "id": "qqgtSsa88Zmh",
        "colab_type": "text"
      },
      "source": [
        "We have $e$ as following : ```e = [[1,2,3],[4,5,6],[7,8,9]]```. Change $e$ as a numpy array and print it."
      ]
    },
    {
      "cell_type": "code",
      "metadata": {
        "id": "Krhm4bVE7RET",
        "colab_type": "code",
        "outputId": "6d65a652-aaf7-48dc-e179-44b1d88b96c4",
        "colab": {
          "base_uri": "https://localhost:8080/",
          "height": 67
        }
      },
      "source": [
        "e = [[1,2,3],[4,5,6],[7,8,9]]\n",
        "e =np.array(e)\n",
        "print(\"e={}\".format(e))\n"
      ],
      "execution_count": 74,
      "outputs": [
        {
          "output_type": "stream",
          "text": [
            "e=[[1 2 3]\n",
            " [4 5 6]\n",
            " [7 8 9]]\n"
          ],
          "name": "stdout"
        }
      ]
    },
    {
      "cell_type": "markdown",
      "metadata": {
        "id": "1qTikI0foam9",
        "colab_type": "text"
      },
      "source": [
        "$f$ and $g$ are two square matrices of size 5 such that all the entries of $f$ are 1 and $g$ is an identity matrix. Initialize them and print them"
      ]
    },
    {
      "cell_type": "code",
      "metadata": {
        "id": "DvaLckI49aBV",
        "colab_type": "code",
        "outputId": "71ecee2a-665e-4e21-e0e2-f275196078fb",
        "colab": {
          "base_uri": "https://localhost:8080/",
          "height": 185
        }
      },
      "source": [
        "f=np.ones((5,5))\n",
        "print(\"f={}\".format(f))\n",
        "g=np.eye(5)\n",
        "print(\"g={}\".format(g))"
      ],
      "execution_count": 75,
      "outputs": [
        {
          "output_type": "stream",
          "text": [
            "f=[[1. 1. 1. 1. 1.]\n",
            " [1. 1. 1. 1. 1.]\n",
            " [1. 1. 1. 1. 1.]\n",
            " [1. 1. 1. 1. 1.]\n",
            " [1. 1. 1. 1. 1.]]\n",
            "g=[[1. 0. 0. 0. 0.]\n",
            " [0. 1. 0. 0. 0.]\n",
            " [0. 0. 1. 0. 0.]\n",
            " [0. 0. 0. 1. 0.]\n",
            " [0. 0. 0. 0. 1.]]\n"
          ],
          "name": "stdout"
        }
      ]
    },
    {
      "cell_type": "markdown",
      "metadata": {
        "id": "gcBZAZibAKcg",
        "colab_type": "text"
      },
      "source": [
        "Reshape $c$ into a $10 \\times 10$ matrix and name it $h$. Now flatten $h$, call it $c^\\prime$ and print **YES** when the shapes of $c$ and $c^\\prime$ are same. Otherwise print **NO**."
      ]
    },
    {
      "cell_type": "code",
      "metadata": {
        "id": "I71vtO9bA9Pi",
        "colab_type": "code",
        "outputId": "42b8c1c3-1aad-48fe-afba-45acc47209a6",
        "colab": {
          "base_uri": "https://localhost:8080/",
          "height": 319
        }
      },
      "source": [
        "h=c.reshape((10,10))\n",
        "print(\"h={}\".format(h))\n",
        "print()\n",
        "\n",
        "c1=h.flatten()\n",
        "print(\"c1={}\".format(c1))\n",
        "print()\n",
        "\n",
        "if c.shape==c1.shape:\n",
        "  print(\"YES\")\n",
        "else:\n",
        "  print(\"NO\")"
      ],
      "execution_count": 76,
      "outputs": [
        {
          "output_type": "stream",
          "text": [
            "h=[[ 0  1  2  3  4  5  6  7  8  9]\n",
            " [10 11 12 13 14 15 16 17 18 19]\n",
            " [20 21 22 23 24 25 26 27 28 29]\n",
            " [30 31 32 33 34 35 36 37 38 39]\n",
            " [40 41 42 43 44 45 46 47 48 49]\n",
            " [50 51 52 53 54 55 56 57 58 59]\n",
            " [60 61 62 63 64 65 66 67 68 69]\n",
            " [70 71 72 73 74 75 76 77 78 79]\n",
            " [80 81 82 83 84 85 86 87 88 89]\n",
            " [90 91 92 93 94 95 96 97 98 99]]\n",
            "\n",
            "c1=[ 0  1  2  3  4  5  6  7  8  9 10 11 12 13 14 15 16 17 18 19 20 21 22 23\n",
            " 24 25 26 27 28 29 30 31 32 33 34 35 36 37 38 39 40 41 42 43 44 45 46 47\n",
            " 48 49 50 51 52 53 54 55 56 57 58 59 60 61 62 63 64 65 66 67 68 69 70 71\n",
            " 72 73 74 75 76 77 78 79 80 81 82 83 84 85 86 87 88 89 90 91 92 93 94 95\n",
            " 96 97 98 99]\n",
            "\n",
            "YES\n"
          ],
          "name": "stdout"
        }
      ]
    },
    {
      "cell_type": "markdown",
      "metadata": {
        "id": "8FrecDPiA-Bv",
        "colab_type": "text"
      },
      "source": [
        "Let $A$ denote a randomly initialized three dimensional matrix of shape (2,10,5). Transpose $A$, call it $A^\\prime$, such that its shape is (5,2,10) and print it."
      ]
    },
    {
      "cell_type": "code",
      "metadata": {
        "id": "VbOKqSm6Bkaq",
        "colab_type": "code",
        "outputId": "47484a6f-374d-4c15-c49a-a9112ae8ea74",
        "colab": {
          "base_uri": "https://localhost:8080/",
          "height": 790
        }
      },
      "source": [
        "A = np.random.rand(2,10,5)\n",
        "print(\"A={}\".format(A))\n",
        "print()\n",
        "\n",
        "#transpose of 3D array\n",
        "A1=A.transpose(2,0,1)\n",
        "print(\"tansapose of A==>A1={}\".format(A1))\n"
      ],
      "execution_count": 78,
      "outputs": [
        {
          "output_type": "stream",
          "text": [
            "A=[[[0.68152824 0.48854503 0.12430827 0.70569996 0.84281804]\n",
            "  [0.44501343 0.63137984 0.93274846 0.80474377 0.55263413]\n",
            "  [0.06020618 0.71092231 0.28057207 0.6147385  0.50846053]\n",
            "  [0.97563861 0.20535307 0.56584635 0.88166833 0.47888381]\n",
            "  [0.68962303 0.04441855 0.21961274 0.71677578 0.24528152]\n",
            "  [0.87032109 0.04339557 0.61442206 0.9854675  0.47809314]\n",
            "  [0.3217668  0.55030249 0.54827365 0.50913085 0.81771222]\n",
            "  [0.87166721 0.45987959 0.88016814 0.73412683 0.7152663 ]\n",
            "  [0.44147844 0.34630551 0.04621101 0.67835617 0.2575744 ]\n",
            "  [0.47401878 0.62722181 0.13784551 0.45809249 0.23784937]]\n",
            "\n",
            " [[0.78284465 0.61220732 0.589083   0.91056745 0.02633553]\n",
            "  [0.60681397 0.02200498 0.72533471 0.15257721 0.73619894]\n",
            "  [0.46029814 0.30372332 0.788694   0.00425779 0.52150298]\n",
            "  [0.58877292 0.63918894 0.94416935 0.89562554 0.40258439]\n",
            "  [0.87948376 0.85471108 0.49477806 0.56869253 0.7071517 ]\n",
            "  [0.56697871 0.59295992 0.27179629 0.44194937 0.49048668]\n",
            "  [0.91302486 0.05488487 0.16995412 0.58113036 0.84937145]\n",
            "  [0.7610988  0.41928839 0.066429   0.40453757 0.20514358]\n",
            "  [0.72569441 0.81492816 0.31807642 0.19520638 0.84390497]\n",
            "  [0.6426135  0.26903744 0.51644277 0.367624   0.19152692]]]\n",
            "\n",
            "tansapose of A==>A1=[[[0.68152824 0.44501343 0.06020618 0.97563861 0.68962303 0.87032109\n",
            "   0.3217668  0.87166721 0.44147844 0.47401878]\n",
            "  [0.78284465 0.60681397 0.46029814 0.58877292 0.87948376 0.56697871\n",
            "   0.91302486 0.7610988  0.72569441 0.6426135 ]]\n",
            "\n",
            " [[0.48854503 0.63137984 0.71092231 0.20535307 0.04441855 0.04339557\n",
            "   0.55030249 0.45987959 0.34630551 0.62722181]\n",
            "  [0.61220732 0.02200498 0.30372332 0.63918894 0.85471108 0.59295992\n",
            "   0.05488487 0.41928839 0.81492816 0.26903744]]\n",
            "\n",
            " [[0.12430827 0.93274846 0.28057207 0.56584635 0.21961274 0.61442206\n",
            "   0.54827365 0.88016814 0.04621101 0.13784551]\n",
            "  [0.589083   0.72533471 0.788694   0.94416935 0.49477806 0.27179629\n",
            "   0.16995412 0.066429   0.31807642 0.51644277]]\n",
            "\n",
            " [[0.70569996 0.80474377 0.6147385  0.88166833 0.71677578 0.9854675\n",
            "   0.50913085 0.73412683 0.67835617 0.45809249]\n",
            "  [0.91056745 0.15257721 0.00425779 0.89562554 0.56869253 0.44194937\n",
            "   0.58113036 0.40453757 0.19520638 0.367624  ]]\n",
            "\n",
            " [[0.84281804 0.55263413 0.50846053 0.47888381 0.24528152 0.47809314\n",
            "   0.81771222 0.7152663  0.2575744  0.23784937]\n",
            "  [0.02633553 0.73619894 0.52150298 0.40258439 0.7071517  0.49048668\n",
            "   0.84937145 0.20514358 0.84390497 0.19152692]]]\n"
          ],
          "name": "stdout"
        }
      ]
    },
    {
      "cell_type": "markdown",
      "metadata": {
        "id": "xR2zd-nkCani",
        "colab_type": "text"
      },
      "source": [
        "You have a matrix $X$ of size (10,5) filled with random values. Print the following :\n",
        "* Minimum value and index where it occured, for each column\n",
        "* Maximum value and the index where it occured, for each column\n",
        "* Minimum value and index where it occured, for each row\n",
        "* Maximum value and index where it occured, for each row\n",
        "* Minimum value and index where it occured, for the entire matrix\n",
        "* Maximum value and index where it occured, for the entire matrix"
      ]
    },
    {
      "cell_type": "code",
      "metadata": {
        "id": "FR2Wd4fWD_Og",
        "colab_type": "code",
        "outputId": "e1c1a874-68ae-4bf8-d47b-9306341155af",
        "colab": {
          "base_uri": "https://localhost:8080/",
          "height": 185
        }
      },
      "source": [
        "np.random.seed(0)\n",
        "X = np.random.rand(10,5)\n",
        "\n",
        "#Minimum and maximum across each column and their indices\n",
        "print(\"Minimum values across each column and thier indices = {},{}\".format(np.min(X,axis=0),np.argmin(X,axis=0)))\n",
        "print(\"Maximum values across each column and thier indices = {},{}\".format(np.max(X,axis=0),np.argmax(X,axis=0)))\n",
        "print()\n",
        "\n",
        "#Minimum and maximum across each row and their indices\n",
        "print(\"Minimum values across each row and thier indices = {},{}\".format(np.min(X,axis=1),np.argmin(X,axis=1)))\n",
        "print(\"Maximum values across each row and thier indices = {},{}\".format(np.max(X,axis=1),np.argmax(X,axis=1)))\n",
        "print()\n",
        "\n",
        "#Minimum and maximum for entire matrix and its index\n",
        "print(\"Minimum value and its index = {} , {}\".format(np.min(X),np.argmin(X))) #if want we can index to a tuple using unravel_index() method\n",
        "print(\"Maximum value and its index = {} , {}\".format(np.max(X),np.argmax(X)))"
      ],
      "execution_count": 79,
      "outputs": [
        {
          "output_type": "stream",
          "text": [
            "Minimum values across each column and thier indices = [0.0871293  0.0202184  0.1289263  0.06022547 0.0187898 ],[3 3 9 8 6]\n",
            "Maximum values across each column and thier indices = [0.97861834 0.79915856 0.94466892 0.96366276 0.87001215],[4 4 5 1 3]\n",
            "\n",
            "Minimum values across each row and thier indices = [0.4236548  0.38344152 0.07103606 0.0202184  0.11827443 0.14335329\n",
            " 0.0187898  0.61209572 0.06022547 0.1289263 ],[4 4 4 1 4 1 4 1 3 2]\n",
            "Maximum values across each row and thier indices = [0.71518937 0.96366276 0.92559664 0.87001215 0.97861834 0.94466892\n",
            " 0.77423369 0.94374808 0.6976312  0.67063787],[1 3 3 4 0 2 1 3 2 0]\n",
            "\n",
            "Minimum value and its index = 0.018789800436355142 , 34\n",
            "Maximum value and its index = 0.978618342232764 , 20\n"
          ],
          "name": "stdout"
        }
      ]
    },
    {
      "cell_type": "markdown",
      "metadata": {
        "id": "YpjW2ypkEGtS",
        "colab_type": "text"
      },
      "source": [
        "Find and print the following for the matrix X: \n",
        "* Mean of each row and column\n",
        "* Standard deviation of each row and column\n",
        "* Mean of the entire matrix\n",
        "* Standard deviation of entire matrix"
      ]
    },
    {
      "cell_type": "code",
      "metadata": {
        "id": "gMdm2pw0GWjf",
        "colab_type": "code",
        "outputId": "2e8579ed-9d4a-4e2b-8c23-6d40b6961980",
        "colab": {
          "base_uri": "https://localhost:8080/",
          "height": 84
        }
      },
      "source": [
        "#mean of each row and column and the entire matrix\n",
        "print(\"Mean of each row = {}\" .format(np.mean(X,axis=1)))\n",
        "print(\"Mean of each column = {}\" .format(np.mean(X,axis=0)))\n",
        "print(\"Mean of the entire matrix = {}\".format(np.mean(X)))\n"
      ],
      "execution_count": 80,
      "outputs": [
        {
          "output_type": "stream",
          "text": [
            "Mean of each row = [0.56706085 0.66447172 0.57705944 0.51762729 0.62761197 0.5328907\n",
            " 0.41643268 0.69444672 0.44423265 0.33781717]\n",
            "Mean of each column = [0.56044382 0.46781457 0.62009909 0.64025127 0.40121685]\n",
            "Mean of the entire matrix = 0.5379651182755409\n"
          ],
          "name": "stdout"
        }
      ]
    },
    {
      "cell_type": "code",
      "metadata": {
        "id": "WD2fyc_aY7M3",
        "colab_type": "code",
        "outputId": "5e521e33-ff31-4fb2-9396-b2b190a639a1",
        "colab": {
          "base_uri": "https://localhost:8080/",
          "height": 84
        }
      },
      "source": [
        "#Standard deviation of each row and column\n",
        "print(\"Standard Deviation of each row = {}\" .format(np.std(X,axis=1)))\n",
        "print(\"Standard Deviation of each column = {}\" .format(np.std(X,axis=0)))\n",
        "print(\"Standard Deviation of the entire matrix = {}\".format(np.std(X)))"
      ],
      "execution_count": 81,
      "outputs": [
        {
          "output_type": "stream",
          "text": [
            "Standard Deviation of each row = [0.09445299 0.23322986 0.29189733 0.38052993 0.30431633 0.26338419\n",
            " 0.25841437 0.12727959 0.23169975 0.18537332]\n",
            "Standard Deviation of each column = [0.24687647 0.25752158 0.22948615 0.28054144 0.26584905]\n",
            "Standard Deviation of the entire matrix = 0.27226582292177587\n"
          ],
          "name": "stdout"
        }
      ]
    },
    {
      "cell_type": "markdown",
      "metadata": {
        "id": "7dw7W8HOGXKA",
        "colab_type": "text"
      },
      "source": [
        "Let $Y$ denote a square matrix of size 10 with random values. Print the following:\n",
        "* Determinant\n",
        "* Rank of the matrix\n",
        "* Diagonal Elements\n",
        "* Trace\n",
        "* Eigen values\n",
        "* Matrices obtained after Singular Value Decomposition\n",
        "* Inverse if exists, otherwise Pseudo-Inverse\n",
        "* Multiplication $Y$ with $X$\n",
        "* Element-wise multiplication of $Y$ and its inverse(or pseudo-inverse)"
      ]
    },
    {
      "cell_type": "code",
      "metadata": {
        "id": "Tswbn9hgL7yi",
        "colab_type": "code",
        "outputId": "1887731a-1d0e-43cb-e559-69c2fbe6794c",
        "colab": {
          "base_uri": "https://localhost:8080/",
          "height": 151
        }
      },
      "source": [
        "np.random.seed(3)\n",
        "Y = np.random.rand(10,10)\n",
        "\n",
        "#Determinant\n",
        "print(\"Determinant={}\".format(np.linalg.det(Y)))\n",
        "print()\n",
        "\n",
        "#rank\n",
        "print(\"Rank={}\".format(np.linalg.matrix_rank(Y)))\n",
        "print()\n",
        "\n",
        "#Diagonal Elements\n",
        "print(\"Diagonal elements={}\".format(np.diag(Y)))\n",
        "print()\n",
        "\n",
        "#trace\n",
        "print(\"Trace={}\".format(np.trace(Y)))\n"
      ],
      "execution_count": 82,
      "outputs": [
        {
          "output_type": "stream",
          "text": [
            "Determinant=-0.012807808169095483\n",
            "\n",
            "Rank=10\n",
            "\n",
            "Diagonal elements=[0.5507979  0.45683322 0.44045372 0.84575087 0.4576864  0.36217621\n",
            " 0.06152893 0.19897603 0.92672568 0.19638058]\n",
            "\n",
            "Trace=4.497309545724899\n"
          ],
          "name": "stdout"
        }
      ]
    },
    {
      "cell_type": "code",
      "metadata": {
        "id": "IKxrUC4mZbEA",
        "colab_type": "code",
        "outputId": "7e65ffb3-20bd-4d5a-fb98-a2dc0b7e6f79",
        "colab": {
          "base_uri": "https://localhost:8080/",
          "height": 756
        }
      },
      "source": [
        "#Eigen vectors\n",
        "eigen_val,eigen_vec=np.linalg.eig(Y)\n",
        "print(\"Eigen Values={}\".format(eigen_val))\n",
        "print(\"The right eigen vectors are {}\".format(eigen_vec))"
      ],
      "execution_count": 83,
      "outputs": [
        {
          "output_type": "stream",
          "text": [
            "Eigen Values=[ 4.797525  +0.j          0.72411408+0.52238181j  0.72411408-0.52238181j\n",
            " -0.48250062+0.55413671j -0.48250062-0.55413671j -0.6909002 +0.j\n",
            " -0.25905659+0.32357377j -0.25905659-0.32357377j  0.2127855 +0.08352477j\n",
            "  0.2127855 -0.08352477j]\n",
            "The right eigen vectors are [[ 0.29593906+0.j          0.14213977+0.19798456j  0.14213977-0.19798456j\n",
            "  -0.37236549+0.00325385j -0.37236549-0.00325385j -0.1096481 +0.j\n",
            "  -0.0132423 +0.12273111j -0.0132423 -0.12273111j -0.56228934-0.10973258j\n",
            "  -0.56228934+0.10973258j]\n",
            " [ 0.25059285+0.j          0.01404552+0.1967944j   0.01404552-0.1967944j\n",
            "  -0.16781094-0.17307308j -0.16781094+0.17307308j -0.29711444+0.j\n",
            "  -0.04108937-0.4113554j  -0.04108937+0.4113554j   0.61892544+0.j\n",
            "   0.61892544-0.j        ]\n",
            " [ 0.31416894+0.j         -0.24186998+0.15655466j -0.24186998-0.15655466j\n",
            "  -0.16993115+0.15284371j -0.16993115-0.15284371j  0.36362726+0.j\n",
            "  -0.10206063+0.15541211j -0.10206063-0.15541211j  0.16701388+0.18450241j\n",
            "   0.16701388-0.18450241j]\n",
            " [ 0.36027404+0.j          0.52448941+0.j          0.52448941-0.j\n",
            "   0.48969059+0.j          0.48969059-0.j          0.17074825+0.j\n",
            "   0.14078898+0.01851681j  0.14078898-0.01851681j -0.13278372+0.03975259j\n",
            "  -0.13278372-0.03975259j]\n",
            " [ 0.27990836+0.j         -0.13624801+0.01805996j -0.13624801-0.01805996j\n",
            "  -0.0731246 -0.10412128j -0.0731246 +0.10412128j  0.13537705+0.j\n",
            "  -0.29263074+0.368267j   -0.29263074-0.368267j   -0.07942445-0.1381196j\n",
            "  -0.07942445+0.1381196j ]\n",
            " [ 0.30697292+0.j         -0.2288709 -0.09164898j -0.2288709 +0.09164898j\n",
            "   0.34166486-0.10037728j  0.34166486+0.10037728j  0.38961338+0.j\n",
            "   0.1575938 -0.27237341j  0.1575938 +0.27237341j -0.05056956+0.01833742j\n",
            "  -0.05056956-0.01833742j]\n",
            " [ 0.28526996+0.j         -0.07276121-0.22120787j -0.07276121+0.22120787j\n",
            "  -0.09920762+0.30369397j -0.09920762-0.30369397j -0.38942645+0.j\n",
            "  -0.35795075-0.21303717j -0.35795075+0.21303717j  0.25824685-0.05397791j\n",
            "   0.25824685+0.05397791j]\n",
            " [ 0.23358056+0.j          0.33195752+0.22875065j  0.33195752-0.22875065j\n",
            "   0.22899202+0.29805206j  0.22899202-0.29805206j -0.15526644+0.j\n",
            "   0.47450761+0.j          0.47450761-0.j          0.01343252-0.05360821j\n",
            "   0.01343252+0.05360821j]\n",
            " [ 0.39548419+0.j         -0.14569343-0.47441452j -0.14569343+0.47441452j\n",
            "  -0.29937425-0.1334132j  -0.29937425+0.1334132j   0.26931546+0.j\n",
            "   0.07126882+0.08476271j  0.07126882-0.08476271j -0.02419704-0.00279054j\n",
            "  -0.02419704+0.00279054j]\n",
            " [ 0.3952166 +0.j         -0.02644966-0.01254236j -0.02644966+0.01254236j\n",
            "   0.09200666-0.09461051j  0.09200666+0.09461051j -0.5656002 +0.j\n",
            "   0.04736886+0.16022229j  0.04736886-0.16022229j -0.31202472+0.09318458j\n",
            "  -0.31202472-0.09318458j]]\n"
          ],
          "name": "stdout"
        }
      ]
    },
    {
      "cell_type": "code",
      "metadata": {
        "id": "MKSzmCXaaLt3",
        "colab_type": "code",
        "colab": {
          "base_uri": "https://localhost:8080/",
          "height": 790
        },
        "outputId": "0e72e41a-b48e-4995-f3a7-c6d93741cd5e"
      },
      "source": [
        "#Singular Value Decomposition\n",
        "u,s,vh = np.linalg.svd(Y)\n",
        "print(\"Singular Value Decomposition\")\n",
        "print(\"U of b is :\\n{}\".format(u))\n",
        "print(\"V of b is :\\n{}\".format(vh))\n",
        "print(\"singular values of b are :\\n{}\".format(s))"
      ],
      "execution_count": 84,
      "outputs": [
        {
          "output_type": "stream",
          "text": [
            "Singular Value Decomposition\n",
            "U of b is :\n",
            "[[-0.31776408 -0.02455508 -0.60644878 -0.17883359 -0.12672161  0.14873878\n",
            "  -0.17823942 -0.52859453 -0.02295855 -0.38570883]\n",
            " [-0.26118514 -0.10864541 -0.24911354  0.26547359  0.52168399 -0.25773901\n",
            "  -0.46995326  0.21752636 -0.39285046  0.16234491]\n",
            " [-0.31347907 -0.34483471 -0.25292297  0.1214296   0.1486964   0.33436315\n",
            "   0.54080229  0.48017168  0.05660692 -0.20966421]\n",
            " [-0.35815379  0.59490017  0.30255161  0.15850614 -0.11046295  0.3051409\n",
            "   0.07395537  0.03044889 -0.50561658 -0.18384856]\n",
            " [-0.28385845 -0.18085696 -0.1583078   0.10535533 -0.46807835 -0.08377643\n",
            "   0.24075452 -0.16170764 -0.24786952  0.69201648]\n",
            " [-0.28871348 -0.27577124  0.40271105  0.60433658  0.11931679 -0.04899205\n",
            "   0.02593316 -0.44875145  0.27874747 -0.12964796]\n",
            " [-0.27897316  0.00398904  0.20819753 -0.52536617  0.41116881 -0.41991923\n",
            "   0.42687225 -0.24145621 -0.12958507 -0.00984813]\n",
            " [-0.24788529  0.48136836 -0.15792433 -0.02303902  0.3246308   0.25755952\n",
            "  -0.01429533 -0.03088365  0.56052488  0.44079262]\n",
            " [-0.37505167 -0.36728578  0.39799373 -0.45186801 -0.10830044  0.34456765\n",
            "  -0.4447402   0.14147957  0.0716725   0.09192695]\n",
            " [-0.40049601  0.19846099 -0.02705464  0.02500837 -0.39745062 -0.57941613\n",
            "  -0.10288216  0.3673956   0.33321483 -0.22039139]]\n",
            "V of b is :\n",
            "[[-0.28816735 -0.35560525 -0.33294235 -0.33250662 -0.36658188 -0.3625847\n",
            "  -0.26573249 -0.23278667 -0.30457183 -0.29270444]\n",
            " [ 0.53693497  0.11306854  0.39562078  0.25099719 -0.07369559 -0.37753546\n",
            "  -0.08584363  0.00333609 -0.2399022  -0.51623983]\n",
            " [-0.084609   -0.22589744 -0.00306935  0.1954239  -0.327784   -0.49318928\n",
            "   0.42323124  0.18588504  0.58200169  0.02301787]\n",
            " [ 0.01388163 -0.2631197   0.42190391 -0.53612946  0.01058633 -0.04415909\n",
            "   0.29385139  0.49501812 -0.32731018  0.15669071]\n",
            " [-0.27340804  0.28220631  0.28945859 -0.1626885   0.14790418 -0.35915036\n",
            "  -0.64971879  0.23854611  0.29589227  0.1337842 ]\n",
            " [ 0.10830593  0.27974551 -0.20571161  0.10308827  0.10096026 -0.5325142\n",
            "   0.15994871 -0.16150892 -0.3941055   0.59692177]\n",
            " [ 0.44882085  0.34972045 -0.01773924 -0.50737391 -0.52251393  0.11970007\n",
            "  -0.02807841 -0.20137782  0.25705553  0.15409283]\n",
            " [-0.35599817 -0.05022624  0.63427946  0.20935183 -0.34847081  0.11510691\n",
            "   0.03182222 -0.47748403 -0.1161671   0.21777064]\n",
            " [ 0.18417681 -0.32168889  0.15954963 -0.32397524  0.5548368  -0.1807982\n",
            "   0.08626619 -0.55063636  0.28439362 -0.01119242]\n",
            " [-0.41560913  0.59522266  0.02089304 -0.23979844  0.13515565 -0.0893732\n",
            "   0.44674689 -0.10709455 -0.02239562 -0.42098815]]\n",
            "singular values of b are :\n",
            "[4.89636645 1.42832104 1.17173389 0.94068764 0.76892251 0.62457278\n",
            " 0.52105948 0.28969576 0.24512275 0.09350223]\n"
          ],
          "name": "stdout"
        }
      ]
    },
    {
      "cell_type": "code",
      "metadata": {
        "id": "KK4dMV3oaTpQ",
        "colab_type": "code",
        "colab": {
          "base_uri": "https://localhost:8080/",
          "height": 353
        },
        "outputId": "2b02cc9e-c950-4b47-c0cc-50701388b7cf"
      },
      "source": [
        "#Inverse\n",
        "if np.linalg.det(Y)!=0:\n",
        "  print(\"Inverse={}\".format(np.linalg.inv(Y)))\n",
        "else:\n",
        "  print(\"Inverse={}\".format(np.linalg.pinv(Y)))\n"
      ],
      "execution_count": 85,
      "outputs": [
        {
          "output_type": "stream",
          "text": [
            "Inverse=[[ 2.31470983 -1.92264991  0.7642126   0.78096977 -2.74248585  1.20175092\n",
            "   0.38693174 -1.37664514 -0.96484143  0.83123246]\n",
            " [-2.24504111  1.25605742 -0.91466223 -0.39587642  4.71823627 -1.32162185\n",
            "   0.52594984  2.39368168  0.33051878 -2.33540101]\n",
            " [-1.41290916  0.66149939  0.94968095 -0.18869248 -0.50069581 -0.55664939\n",
            "  -0.55275157  0.57384943 -0.04209635  1.11025544]\n",
            " [ 0.88051129  0.37055438  0.15632501  1.25248223 -1.81219563 -0.7249179\n",
            "  -0.19613524 -1.81766381  0.56943994  0.52226388]\n",
            " [ 0.39743656 -0.28842728 -1.09880632 -1.57965965  0.36480771  0.90235521\n",
            "  -0.47743451  2.09911148  0.53638288 -0.04562024]\n",
            " [ 0.36068175  0.22958502  0.33426258  0.10367281 -0.06700744 -0.37158555\n",
            "   0.22972702 -1.26286862 -0.45133033  0.75430018]\n",
            " [-2.01045364  0.19347423 -1.01393804 -0.74303568  3.56449935 -0.31892146\n",
            "  -0.67116163  2.01265699  0.72873355 -0.69454601]\n",
            " [ 1.18043988  0.86047396 -0.88991494  1.30425635 -0.14247318  0.69661973\n",
            "   0.5413572  -1.69774697 -0.60797727 -1.00698216]\n",
            " [-0.1679456  -0.63197036 -0.0540802  -0.73587818 -0.46423184  0.67805628\n",
            "   0.88551393  0.37662528 -0.03416891  0.42341327]\n",
            " [ 1.3938872  -0.74982353  1.96636643  1.00676681 -3.21953806  0.44078124\n",
            "  -0.40298654 -1.90114336 -0.04414834  0.55576763]]\n"
          ],
          "name": "stdout"
        }
      ]
    },
    {
      "cell_type": "code",
      "metadata": {
        "id": "znG1uTZvaedh",
        "colab_type": "code",
        "outputId": "2cee89ac-8009-43cc-ffae-1c60bd457c86",
        "colab": {
          "base_uri": "https://localhost:8080/",
          "height": 185
        }
      },
      "source": [
        "#Mutplication of y with x\n",
        "print(\"Mutliplication of Y and X ={}\".format(np.matmul(Y,X)))"
      ],
      "execution_count": 86,
      "outputs": [
        {
          "output_type": "stream",
          "text": [
            "Mutliplication of Y and X =[[2.95726101 2.04939653 3.09073485 3.22311637 1.78554985]\n",
            " [2.61266989 1.75663954 2.48635951 2.79783984 1.50654432]\n",
            " [2.98361778 2.02894044 2.82637865 2.88685728 1.69799548]\n",
            " [2.98565892 2.85485651 3.58995669 4.0073463  2.2697569 ]\n",
            " [2.49815821 1.97791033 2.77809758 2.71690515 1.59098767]\n",
            " [2.72146909 2.39905911 2.58780909 2.78212857 1.71792628]\n",
            " [2.22935358 1.74438251 2.94718357 2.48955906 2.05838199]\n",
            " [2.30476788 1.92350098 2.41698824 2.81379687 1.38016019]\n",
            " [2.91925254 2.36604123 3.53647969 3.30424184 2.52990887]\n",
            " [3.39559098 2.84629279 4.05845051 4.01068273 2.35816262]]\n"
          ],
          "name": "stdout"
        }
      ]
    },
    {
      "cell_type": "code",
      "metadata": {
        "id": "bok-7FroajWn",
        "colab_type": "code",
        "outputId": "fd945778-8432-4a5b-d005-3e395e4c064b",
        "colab": {
          "base_uri": "https://localhost:8080/",
          "height": 521
        }
      },
      "source": [
        "#Elementwise multiplication of Y and Y-inverse\n",
        "res=np.dot(Y,np.linalg.inv(Y))\n",
        "print(\"Mutliplication of Y and Y-inverse ={}\".format(res))\n"
      ],
      "execution_count": 87,
      "outputs": [
        {
          "output_type": "stream",
          "text": [
            "Mutliplication of Y and Y-inverse =[[ 1.00000000e+00 -3.90793144e-17  3.65935406e-16  3.11342944e-16\n",
            "  -8.91983549e-16 -4.81506510e-17 -1.42655871e-16 -6.91246638e-16\n",
            "  -6.67910040e-17  1.33795870e-16]\n",
            " [ 1.42780307e-17  1.00000000e+00 -6.98095657e-17 -1.52151045e-16\n",
            "  -4.63427918e-16 -1.05178821e-16  4.44443766e-17 -9.87040861e-17\n",
            "   1.06466168e-16 -1.58597206e-16]\n",
            " [-1.44191947e-17 -4.68953161e-17  1.00000000e+00  4.77076242e-17\n",
            "  -6.49165003e-16 -6.78141792e-17 -9.36855690e-18 -9.73600834e-16\n",
            "  -3.16087494e-17 -1.18238356e-16]\n",
            " [-1.41735142e-16  2.10254036e-16  1.43559668e-17  1.00000000e+00\n",
            "   5.52648957e-17 -8.23073740e-18 -1.72594927e-18  7.33409702e-17\n",
            "   4.69571374e-17 -2.73245897e-16]\n",
            " [-1.71385362e-17 -3.79289464e-18 -2.27088068e-16  1.03307474e-16\n",
            "   1.00000000e+00 -2.64623779e-17  1.14447652e-16  2.15787383e-17\n",
            "  -1.42660749e-17 -2.17474454e-16]\n",
            " [-8.26384805e-17  1.20440776e-16 -4.69445243e-17 -3.74729367e-17\n",
            "   9.72134814e-16  1.00000000e+00  1.81161593e-17  2.13127233e-16\n",
            "  -7.72471485e-17 -1.30656837e-16]\n",
            " [ 3.53786975e-16  2.66066463e-18 -6.15228131e-17  1.38960755e-16\n",
            "  -1.33510130e-15  2.62173396e-17  1.00000000e+00 -3.76182195e-16\n",
            "  -7.02445804e-17  2.06159764e-16]\n",
            " [-2.75842016e-16 -7.28598118e-17 -2.34103860e-16  2.80898127e-17\n",
            "  -1.39319386e-16  1.41600267e-16 -4.52961673e-17  1.00000000e+00\n",
            "  -2.64462855e-17 -7.90426564e-17]\n",
            " [-6.53027597e-17  1.25653075e-16  5.18133677e-17  1.96668895e-17\n",
            "  -3.92404830e-16 -2.59855724e-17  2.19914269e-18  2.18871633e-17\n",
            "   1.00000000e+00 -5.87793126e-18]\n",
            " [-1.92650595e-16  2.94720021e-16  1.10584317e-16  1.69940671e-16\n",
            "   3.19180173e-16 -1.66979037e-17 -4.43339340e-17  3.56743742e-17\n",
            "  -9.06248767e-18  1.00000000e+00]]\n"
          ],
          "name": "stdout"
        }
      ]
    },
    {
      "cell_type": "markdown",
      "metadata": {
        "id": "Qne3RnfOL6-4",
        "colab_type": "text"
      },
      "source": [
        "## End of Part - 1\n",
        " --- --- ---"
      ]
    },
    {
      "cell_type": "markdown",
      "metadata": {
        "id": "LA-m4UYkMPTe",
        "colab_type": "text"
      },
      "source": [
        "## Part - 2\n",
        "---\n",
        "In this part, you will be working with the library ```pandas```. Import this library with an alias name ```pd```."
      ]
    },
    {
      "cell_type": "code",
      "metadata": {
        "id": "i8z7TpnZSIms",
        "colab_type": "code",
        "colab": {}
      },
      "source": [
        "# Initial imports\n",
        "import numpy as np\n",
        "import matplotlib.pyplot as plt\n",
        "import pandas as pd\n"
      ],
      "execution_count": 0,
      "outputs": []
    },
    {
      "cell_type": "markdown",
      "metadata": {
        "id": "2v-HkHnyuQ3X",
        "colab_type": "text"
      },
      "source": [
        "Download dataset from: http://biostat.mc.vanderbilt.edu/wiki/pub/Main/DataSets/titanic3.csv\n",
        "Read the data and display the first 5 rows"
      ]
    },
    {
      "cell_type": "code",
      "metadata": {
        "id": "LinX5ywNTUIm",
        "colab_type": "code",
        "outputId": "dc328d21-765d-4b31-df15-6ce0ae7182d2",
        "colab": {
          "base_uri": "https://localhost:8080/",
          "height": 402
        }
      },
      "source": [
        "#Download dataset from: http://biostat.mc.vanderbilt.edu/wiki/pub/Main/DataSets/titanic3.csv\n",
        "\n",
        "file_url = \"http://biostat.mc.vanderbilt.edu/wiki/pub/Main/DataSets/titanic3.csv\"\n",
        "titanic=pd.read_csv(file_url)\n",
        "titanic\n",
        "\n"
      ],
      "execution_count": 89,
      "outputs": [
        {
          "output_type": "execute_result",
          "data": {
            "text/html": [
              "<div>\n",
              "<style scoped>\n",
              "    .dataframe tbody tr th:only-of-type {\n",
              "        vertical-align: middle;\n",
              "    }\n",
              "\n",
              "    .dataframe tbody tr th {\n",
              "        vertical-align: top;\n",
              "    }\n",
              "\n",
              "    .dataframe thead th {\n",
              "        text-align: right;\n",
              "    }\n",
              "</style>\n",
              "<table border=\"1\" class=\"dataframe\">\n",
              "  <thead>\n",
              "    <tr style=\"text-align: right;\">\n",
              "      <th></th>\n",
              "      <th>pclass</th>\n",
              "      <th>survived</th>\n",
              "      <th>name</th>\n",
              "      <th>sex</th>\n",
              "      <th>age</th>\n",
              "      <th>sibsp</th>\n",
              "      <th>parch</th>\n",
              "      <th>ticket</th>\n",
              "      <th>fare</th>\n",
              "      <th>cabin</th>\n",
              "      <th>embarked</th>\n",
              "      <th>boat</th>\n",
              "      <th>body</th>\n",
              "      <th>home.dest</th>\n",
              "    </tr>\n",
              "  </thead>\n",
              "  <tbody>\n",
              "    <tr>\n",
              "      <th>0</th>\n",
              "      <td>1</td>\n",
              "      <td>1</td>\n",
              "      <td>Allen, Miss. Elisabeth Walton</td>\n",
              "      <td>female</td>\n",
              "      <td>29.00</td>\n",
              "      <td>0</td>\n",
              "      <td>0</td>\n",
              "      <td>24160</td>\n",
              "      <td>211.3375</td>\n",
              "      <td>B5</td>\n",
              "      <td>S</td>\n",
              "      <td>2</td>\n",
              "      <td>NaN</td>\n",
              "      <td>St Louis, MO</td>\n",
              "    </tr>\n",
              "    <tr>\n",
              "      <th>1</th>\n",
              "      <td>1</td>\n",
              "      <td>1</td>\n",
              "      <td>Allison, Master. Hudson Trevor</td>\n",
              "      <td>male</td>\n",
              "      <td>0.92</td>\n",
              "      <td>1</td>\n",
              "      <td>2</td>\n",
              "      <td>113781</td>\n",
              "      <td>151.5500</td>\n",
              "      <td>C22 C26</td>\n",
              "      <td>S</td>\n",
              "      <td>11</td>\n",
              "      <td>NaN</td>\n",
              "      <td>Montreal, PQ / Chesterville, ON</td>\n",
              "    </tr>\n",
              "    <tr>\n",
              "      <th>2</th>\n",
              "      <td>1</td>\n",
              "      <td>0</td>\n",
              "      <td>Allison, Miss. Helen Loraine</td>\n",
              "      <td>female</td>\n",
              "      <td>2.00</td>\n",
              "      <td>1</td>\n",
              "      <td>2</td>\n",
              "      <td>113781</td>\n",
              "      <td>151.5500</td>\n",
              "      <td>C22 C26</td>\n",
              "      <td>S</td>\n",
              "      <td>NaN</td>\n",
              "      <td>NaN</td>\n",
              "      <td>Montreal, PQ / Chesterville, ON</td>\n",
              "    </tr>\n",
              "    <tr>\n",
              "      <th>3</th>\n",
              "      <td>1</td>\n",
              "      <td>0</td>\n",
              "      <td>Allison, Mr. Hudson Joshua Creighton</td>\n",
              "      <td>male</td>\n",
              "      <td>30.00</td>\n",
              "      <td>1</td>\n",
              "      <td>2</td>\n",
              "      <td>113781</td>\n",
              "      <td>151.5500</td>\n",
              "      <td>C22 C26</td>\n",
              "      <td>S</td>\n",
              "      <td>NaN</td>\n",
              "      <td>135.0</td>\n",
              "      <td>Montreal, PQ / Chesterville, ON</td>\n",
              "    </tr>\n",
              "    <tr>\n",
              "      <th>4</th>\n",
              "      <td>1</td>\n",
              "      <td>0</td>\n",
              "      <td>Allison, Mrs. Hudson J C (Bessie Waldo Daniels)</td>\n",
              "      <td>female</td>\n",
              "      <td>25.00</td>\n",
              "      <td>1</td>\n",
              "      <td>2</td>\n",
              "      <td>113781</td>\n",
              "      <td>151.5500</td>\n",
              "      <td>C22 C26</td>\n",
              "      <td>S</td>\n",
              "      <td>NaN</td>\n",
              "      <td>NaN</td>\n",
              "      <td>Montreal, PQ / Chesterville, ON</td>\n",
              "    </tr>\n",
              "    <tr>\n",
              "      <th>...</th>\n",
              "      <td>...</td>\n",
              "      <td>...</td>\n",
              "      <td>...</td>\n",
              "      <td>...</td>\n",
              "      <td>...</td>\n",
              "      <td>...</td>\n",
              "      <td>...</td>\n",
              "      <td>...</td>\n",
              "      <td>...</td>\n",
              "      <td>...</td>\n",
              "      <td>...</td>\n",
              "      <td>...</td>\n",
              "      <td>...</td>\n",
              "      <td>...</td>\n",
              "    </tr>\n",
              "    <tr>\n",
              "      <th>1304</th>\n",
              "      <td>3</td>\n",
              "      <td>0</td>\n",
              "      <td>Zabour, Miss. Hileni</td>\n",
              "      <td>female</td>\n",
              "      <td>14.50</td>\n",
              "      <td>1</td>\n",
              "      <td>0</td>\n",
              "      <td>2665</td>\n",
              "      <td>14.4542</td>\n",
              "      <td>NaN</td>\n",
              "      <td>C</td>\n",
              "      <td>NaN</td>\n",
              "      <td>328.0</td>\n",
              "      <td>NaN</td>\n",
              "    </tr>\n",
              "    <tr>\n",
              "      <th>1305</th>\n",
              "      <td>3</td>\n",
              "      <td>0</td>\n",
              "      <td>Zabour, Miss. Thamine</td>\n",
              "      <td>female</td>\n",
              "      <td>NaN</td>\n",
              "      <td>1</td>\n",
              "      <td>0</td>\n",
              "      <td>2665</td>\n",
              "      <td>14.4542</td>\n",
              "      <td>NaN</td>\n",
              "      <td>C</td>\n",
              "      <td>NaN</td>\n",
              "      <td>NaN</td>\n",
              "      <td>NaN</td>\n",
              "    </tr>\n",
              "    <tr>\n",
              "      <th>1306</th>\n",
              "      <td>3</td>\n",
              "      <td>0</td>\n",
              "      <td>Zakarian, Mr. Mapriededer</td>\n",
              "      <td>male</td>\n",
              "      <td>26.50</td>\n",
              "      <td>0</td>\n",
              "      <td>0</td>\n",
              "      <td>2656</td>\n",
              "      <td>7.2250</td>\n",
              "      <td>NaN</td>\n",
              "      <td>C</td>\n",
              "      <td>NaN</td>\n",
              "      <td>304.0</td>\n",
              "      <td>NaN</td>\n",
              "    </tr>\n",
              "    <tr>\n",
              "      <th>1307</th>\n",
              "      <td>3</td>\n",
              "      <td>0</td>\n",
              "      <td>Zakarian, Mr. Ortin</td>\n",
              "      <td>male</td>\n",
              "      <td>27.00</td>\n",
              "      <td>0</td>\n",
              "      <td>0</td>\n",
              "      <td>2670</td>\n",
              "      <td>7.2250</td>\n",
              "      <td>NaN</td>\n",
              "      <td>C</td>\n",
              "      <td>NaN</td>\n",
              "      <td>NaN</td>\n",
              "      <td>NaN</td>\n",
              "    </tr>\n",
              "    <tr>\n",
              "      <th>1308</th>\n",
              "      <td>3</td>\n",
              "      <td>0</td>\n",
              "      <td>Zimmerman, Mr. Leo</td>\n",
              "      <td>male</td>\n",
              "      <td>29.00</td>\n",
              "      <td>0</td>\n",
              "      <td>0</td>\n",
              "      <td>315082</td>\n",
              "      <td>7.8750</td>\n",
              "      <td>NaN</td>\n",
              "      <td>S</td>\n",
              "      <td>NaN</td>\n",
              "      <td>NaN</td>\n",
              "      <td>NaN</td>\n",
              "    </tr>\n",
              "  </tbody>\n",
              "</table>\n",
              "<p>1309 rows × 14 columns</p>\n",
              "</div>"
            ],
            "text/plain": [
              "      pclass  survived  ...   body                        home.dest\n",
              "0          1         1  ...    NaN                     St Louis, MO\n",
              "1          1         1  ...    NaN  Montreal, PQ / Chesterville, ON\n",
              "2          1         0  ...    NaN  Montreal, PQ / Chesterville, ON\n",
              "3          1         0  ...  135.0  Montreal, PQ / Chesterville, ON\n",
              "4          1         0  ...    NaN  Montreal, PQ / Chesterville, ON\n",
              "...      ...       ...  ...    ...                              ...\n",
              "1304       3         0  ...  328.0                              NaN\n",
              "1305       3         0  ...    NaN                              NaN\n",
              "1306       3         0  ...  304.0                              NaN\n",
              "1307       3         0  ...    NaN                              NaN\n",
              "1308       3         0  ...    NaN                              NaN\n",
              "\n",
              "[1309 rows x 14 columns]"
            ]
          },
          "metadata": {
            "tags": []
          },
          "execution_count": 89
        }
      ]
    },
    {
      "cell_type": "markdown",
      "metadata": {
        "id": "vTk1-mF5WYFN",
        "colab_type": "text"
      },
      "source": [
        "### Preprocessing of the Dataset"
      ]
    },
    {
      "cell_type": "markdown",
      "metadata": {
        "id": "kx9UrI9WWt17",
        "colab_type": "text"
      },
      "source": [
        "\n",
        "\n",
        "---\n",
        "\n",
        "\n",
        "**1. Convert the categorical values of columns 'sex', 'embarked', 'pclass' into dummy values and add them into titanic_data_new DataFrame**\n",
        "\n",
        "\n",
        "\n",
        "\n",
        "---\n",
        "\n"
      ]
    },
    {
      "cell_type": "code",
      "metadata": {
        "id": "AwDh9njbZ0QU",
        "colab_type": "code",
        "outputId": "cab0aff7-bd21-498d-99a2-a68cba9bc294",
        "colab": {
          "base_uri": "https://localhost:8080/",
          "height": 402
        }
      },
      "source": [
        "titanic_data_new=pd.get_dummies(titanic['sex'],prefix=\"Sex\")\n",
        "titanic_data_new=pd.concat([titanic_data_new,pd.get_dummies(titanic['embarked'],prefix=\"embarked\")],axis=1)\n",
        "titanic_data_new=pd.concat([titanic_data_new,pd.get_dummies(titanic['pclass'],prefix=\"pclass\")],axis=1)\n",
        "titanic_data_new"
      ],
      "execution_count": 90,
      "outputs": [
        {
          "output_type": "execute_result",
          "data": {
            "text/html": [
              "<div>\n",
              "<style scoped>\n",
              "    .dataframe tbody tr th:only-of-type {\n",
              "        vertical-align: middle;\n",
              "    }\n",
              "\n",
              "    .dataframe tbody tr th {\n",
              "        vertical-align: top;\n",
              "    }\n",
              "\n",
              "    .dataframe thead th {\n",
              "        text-align: right;\n",
              "    }\n",
              "</style>\n",
              "<table border=\"1\" class=\"dataframe\">\n",
              "  <thead>\n",
              "    <tr style=\"text-align: right;\">\n",
              "      <th></th>\n",
              "      <th>Sex_female</th>\n",
              "      <th>Sex_male</th>\n",
              "      <th>embarked_C</th>\n",
              "      <th>embarked_Q</th>\n",
              "      <th>embarked_S</th>\n",
              "      <th>pclass_1</th>\n",
              "      <th>pclass_2</th>\n",
              "      <th>pclass_3</th>\n",
              "    </tr>\n",
              "  </thead>\n",
              "  <tbody>\n",
              "    <tr>\n",
              "      <th>0</th>\n",
              "      <td>1</td>\n",
              "      <td>0</td>\n",
              "      <td>0</td>\n",
              "      <td>0</td>\n",
              "      <td>1</td>\n",
              "      <td>1</td>\n",
              "      <td>0</td>\n",
              "      <td>0</td>\n",
              "    </tr>\n",
              "    <tr>\n",
              "      <th>1</th>\n",
              "      <td>0</td>\n",
              "      <td>1</td>\n",
              "      <td>0</td>\n",
              "      <td>0</td>\n",
              "      <td>1</td>\n",
              "      <td>1</td>\n",
              "      <td>0</td>\n",
              "      <td>0</td>\n",
              "    </tr>\n",
              "    <tr>\n",
              "      <th>2</th>\n",
              "      <td>1</td>\n",
              "      <td>0</td>\n",
              "      <td>0</td>\n",
              "      <td>0</td>\n",
              "      <td>1</td>\n",
              "      <td>1</td>\n",
              "      <td>0</td>\n",
              "      <td>0</td>\n",
              "    </tr>\n",
              "    <tr>\n",
              "      <th>3</th>\n",
              "      <td>0</td>\n",
              "      <td>1</td>\n",
              "      <td>0</td>\n",
              "      <td>0</td>\n",
              "      <td>1</td>\n",
              "      <td>1</td>\n",
              "      <td>0</td>\n",
              "      <td>0</td>\n",
              "    </tr>\n",
              "    <tr>\n",
              "      <th>4</th>\n",
              "      <td>1</td>\n",
              "      <td>0</td>\n",
              "      <td>0</td>\n",
              "      <td>0</td>\n",
              "      <td>1</td>\n",
              "      <td>1</td>\n",
              "      <td>0</td>\n",
              "      <td>0</td>\n",
              "    </tr>\n",
              "    <tr>\n",
              "      <th>...</th>\n",
              "      <td>...</td>\n",
              "      <td>...</td>\n",
              "      <td>...</td>\n",
              "      <td>...</td>\n",
              "      <td>...</td>\n",
              "      <td>...</td>\n",
              "      <td>...</td>\n",
              "      <td>...</td>\n",
              "    </tr>\n",
              "    <tr>\n",
              "      <th>1304</th>\n",
              "      <td>1</td>\n",
              "      <td>0</td>\n",
              "      <td>1</td>\n",
              "      <td>0</td>\n",
              "      <td>0</td>\n",
              "      <td>0</td>\n",
              "      <td>0</td>\n",
              "      <td>1</td>\n",
              "    </tr>\n",
              "    <tr>\n",
              "      <th>1305</th>\n",
              "      <td>1</td>\n",
              "      <td>0</td>\n",
              "      <td>1</td>\n",
              "      <td>0</td>\n",
              "      <td>0</td>\n",
              "      <td>0</td>\n",
              "      <td>0</td>\n",
              "      <td>1</td>\n",
              "    </tr>\n",
              "    <tr>\n",
              "      <th>1306</th>\n",
              "      <td>0</td>\n",
              "      <td>1</td>\n",
              "      <td>1</td>\n",
              "      <td>0</td>\n",
              "      <td>0</td>\n",
              "      <td>0</td>\n",
              "      <td>0</td>\n",
              "      <td>1</td>\n",
              "    </tr>\n",
              "    <tr>\n",
              "      <th>1307</th>\n",
              "      <td>0</td>\n",
              "      <td>1</td>\n",
              "      <td>1</td>\n",
              "      <td>0</td>\n",
              "      <td>0</td>\n",
              "      <td>0</td>\n",
              "      <td>0</td>\n",
              "      <td>1</td>\n",
              "    </tr>\n",
              "    <tr>\n",
              "      <th>1308</th>\n",
              "      <td>0</td>\n",
              "      <td>1</td>\n",
              "      <td>0</td>\n",
              "      <td>0</td>\n",
              "      <td>1</td>\n",
              "      <td>0</td>\n",
              "      <td>0</td>\n",
              "      <td>1</td>\n",
              "    </tr>\n",
              "  </tbody>\n",
              "</table>\n",
              "<p>1309 rows × 8 columns</p>\n",
              "</div>"
            ],
            "text/plain": [
              "      Sex_female  Sex_male  embarked_C  ...  pclass_1  pclass_2  pclass_3\n",
              "0              1         0           0  ...         1         0         0\n",
              "1              0         1           0  ...         1         0         0\n",
              "2              1         0           0  ...         1         0         0\n",
              "3              0         1           0  ...         1         0         0\n",
              "4              1         0           0  ...         1         0         0\n",
              "...          ...       ...         ...  ...       ...       ...       ...\n",
              "1304           1         0           1  ...         0         0         1\n",
              "1305           1         0           1  ...         0         0         1\n",
              "1306           0         1           1  ...         0         0         1\n",
              "1307           0         1           1  ...         0         0         1\n",
              "1308           0         1           0  ...         0         0         1\n",
              "\n",
              "[1309 rows x 8 columns]"
            ]
          },
          "metadata": {
            "tags": []
          },
          "execution_count": 90
        }
      ]
    },
    {
      "cell_type": "markdown",
      "metadata": {
        "id": "Z9bxOfzDbY-n",
        "colab_type": "text"
      },
      "source": [
        "\n",
        "\n",
        "---\n",
        "\n",
        "\n",
        "**2. Fill the missing data in Age and Fare columns with the mean value of the respected column then add these columns to titanic_data_new**\n",
        "\n",
        "\n",
        "---\n",
        "\n"
      ]
    },
    {
      "cell_type": "code",
      "metadata": {
        "id": "DNx7Pr0ehhAs",
        "colab_type": "code",
        "colab": {
          "base_uri": "https://localhost:8080/",
          "height": 402
        },
        "outputId": "172311ae-10e5-4196-e28c-a788872332a2"
      },
      "source": [
        "\n",
        "titanic['age'].fillna(titanic['age'].mean(),inplace=True)\n",
        "titanic_data_new=pd.concat([titanic_data_new,titanic['age']],axis=1)\n",
        "titanic_data_new=pd.concat([titanic_data_new,titanic['fare']],axis=1)\n",
        "titanic_data_new"
      ],
      "execution_count": 91,
      "outputs": [
        {
          "output_type": "execute_result",
          "data": {
            "text/html": [
              "<div>\n",
              "<style scoped>\n",
              "    .dataframe tbody tr th:only-of-type {\n",
              "        vertical-align: middle;\n",
              "    }\n",
              "\n",
              "    .dataframe tbody tr th {\n",
              "        vertical-align: top;\n",
              "    }\n",
              "\n",
              "    .dataframe thead th {\n",
              "        text-align: right;\n",
              "    }\n",
              "</style>\n",
              "<table border=\"1\" class=\"dataframe\">\n",
              "  <thead>\n",
              "    <tr style=\"text-align: right;\">\n",
              "      <th></th>\n",
              "      <th>Sex_female</th>\n",
              "      <th>Sex_male</th>\n",
              "      <th>embarked_C</th>\n",
              "      <th>embarked_Q</th>\n",
              "      <th>embarked_S</th>\n",
              "      <th>pclass_1</th>\n",
              "      <th>pclass_2</th>\n",
              "      <th>pclass_3</th>\n",
              "      <th>age</th>\n",
              "      <th>fare</th>\n",
              "    </tr>\n",
              "  </thead>\n",
              "  <tbody>\n",
              "    <tr>\n",
              "      <th>0</th>\n",
              "      <td>1</td>\n",
              "      <td>0</td>\n",
              "      <td>0</td>\n",
              "      <td>0</td>\n",
              "      <td>1</td>\n",
              "      <td>1</td>\n",
              "      <td>0</td>\n",
              "      <td>0</td>\n",
              "      <td>29.000000</td>\n",
              "      <td>211.3375</td>\n",
              "    </tr>\n",
              "    <tr>\n",
              "      <th>1</th>\n",
              "      <td>0</td>\n",
              "      <td>1</td>\n",
              "      <td>0</td>\n",
              "      <td>0</td>\n",
              "      <td>1</td>\n",
              "      <td>1</td>\n",
              "      <td>0</td>\n",
              "      <td>0</td>\n",
              "      <td>0.920000</td>\n",
              "      <td>151.5500</td>\n",
              "    </tr>\n",
              "    <tr>\n",
              "      <th>2</th>\n",
              "      <td>1</td>\n",
              "      <td>0</td>\n",
              "      <td>0</td>\n",
              "      <td>0</td>\n",
              "      <td>1</td>\n",
              "      <td>1</td>\n",
              "      <td>0</td>\n",
              "      <td>0</td>\n",
              "      <td>2.000000</td>\n",
              "      <td>151.5500</td>\n",
              "    </tr>\n",
              "    <tr>\n",
              "      <th>3</th>\n",
              "      <td>0</td>\n",
              "      <td>1</td>\n",
              "      <td>0</td>\n",
              "      <td>0</td>\n",
              "      <td>1</td>\n",
              "      <td>1</td>\n",
              "      <td>0</td>\n",
              "      <td>0</td>\n",
              "      <td>30.000000</td>\n",
              "      <td>151.5500</td>\n",
              "    </tr>\n",
              "    <tr>\n",
              "      <th>4</th>\n",
              "      <td>1</td>\n",
              "      <td>0</td>\n",
              "      <td>0</td>\n",
              "      <td>0</td>\n",
              "      <td>1</td>\n",
              "      <td>1</td>\n",
              "      <td>0</td>\n",
              "      <td>0</td>\n",
              "      <td>25.000000</td>\n",
              "      <td>151.5500</td>\n",
              "    </tr>\n",
              "    <tr>\n",
              "      <th>...</th>\n",
              "      <td>...</td>\n",
              "      <td>...</td>\n",
              "      <td>...</td>\n",
              "      <td>...</td>\n",
              "      <td>...</td>\n",
              "      <td>...</td>\n",
              "      <td>...</td>\n",
              "      <td>...</td>\n",
              "      <td>...</td>\n",
              "      <td>...</td>\n",
              "    </tr>\n",
              "    <tr>\n",
              "      <th>1304</th>\n",
              "      <td>1</td>\n",
              "      <td>0</td>\n",
              "      <td>1</td>\n",
              "      <td>0</td>\n",
              "      <td>0</td>\n",
              "      <td>0</td>\n",
              "      <td>0</td>\n",
              "      <td>1</td>\n",
              "      <td>14.500000</td>\n",
              "      <td>14.4542</td>\n",
              "    </tr>\n",
              "    <tr>\n",
              "      <th>1305</th>\n",
              "      <td>1</td>\n",
              "      <td>0</td>\n",
              "      <td>1</td>\n",
              "      <td>0</td>\n",
              "      <td>0</td>\n",
              "      <td>0</td>\n",
              "      <td>0</td>\n",
              "      <td>1</td>\n",
              "      <td>29.881138</td>\n",
              "      <td>14.4542</td>\n",
              "    </tr>\n",
              "    <tr>\n",
              "      <th>1306</th>\n",
              "      <td>0</td>\n",
              "      <td>1</td>\n",
              "      <td>1</td>\n",
              "      <td>0</td>\n",
              "      <td>0</td>\n",
              "      <td>0</td>\n",
              "      <td>0</td>\n",
              "      <td>1</td>\n",
              "      <td>26.500000</td>\n",
              "      <td>7.2250</td>\n",
              "    </tr>\n",
              "    <tr>\n",
              "      <th>1307</th>\n",
              "      <td>0</td>\n",
              "      <td>1</td>\n",
              "      <td>1</td>\n",
              "      <td>0</td>\n",
              "      <td>0</td>\n",
              "      <td>0</td>\n",
              "      <td>0</td>\n",
              "      <td>1</td>\n",
              "      <td>27.000000</td>\n",
              "      <td>7.2250</td>\n",
              "    </tr>\n",
              "    <tr>\n",
              "      <th>1308</th>\n",
              "      <td>0</td>\n",
              "      <td>1</td>\n",
              "      <td>0</td>\n",
              "      <td>0</td>\n",
              "      <td>1</td>\n",
              "      <td>0</td>\n",
              "      <td>0</td>\n",
              "      <td>1</td>\n",
              "      <td>29.000000</td>\n",
              "      <td>7.8750</td>\n",
              "    </tr>\n",
              "  </tbody>\n",
              "</table>\n",
              "<p>1309 rows × 10 columns</p>\n",
              "</div>"
            ],
            "text/plain": [
              "      Sex_female  Sex_male  embarked_C  ...  pclass_3        age      fare\n",
              "0              1         0           0  ...         0  29.000000  211.3375\n",
              "1              0         1           0  ...         0   0.920000  151.5500\n",
              "2              1         0           0  ...         0   2.000000  151.5500\n",
              "3              0         1           0  ...         0  30.000000  151.5500\n",
              "4              1         0           0  ...         0  25.000000  151.5500\n",
              "...          ...       ...         ...  ...       ...        ...       ...\n",
              "1304           1         0           1  ...         1  14.500000   14.4542\n",
              "1305           1         0           1  ...         1  29.881138   14.4542\n",
              "1306           0         1           1  ...         1  26.500000    7.2250\n",
              "1307           0         1           1  ...         1  27.000000    7.2250\n",
              "1308           0         1           0  ...         1  29.000000    7.8750\n",
              "\n",
              "[1309 rows x 10 columns]"
            ]
          },
          "metadata": {
            "tags": []
          },
          "execution_count": 91
        }
      ]
    },
    {
      "cell_type": "markdown",
      "metadata": {
        "id": "SlRzKfhxkd1M",
        "colab_type": "text"
      },
      "source": [
        "###Normalization\n",
        "\n",
        "\n",
        "---\n",
        "\n",
        "\n",
        "\n",
        "1. Normalize the columns which have numerical data\n",
        "\n",
        "\n",
        "\n",
        "---\n",
        "\n"
      ]
    },
    {
      "cell_type": "code",
      "metadata": {
        "id": "Y3hpu92TlM38",
        "colab_type": "code",
        "colab": {
          "base_uri": "https://localhost:8080/",
          "height": 402
        },
        "outputId": "ddd96ef7-3679-4362-b87d-167c7df38592"
      },
      "source": [
        "numeric_df=titanic.select_dtypes(include=np.number)\n",
        "normalised_df=(numeric_df-numeric_df.mean())/numeric_df.std()\n",
        "normalised_df"
      ],
      "execution_count": 92,
      "outputs": [
        {
          "output_type": "execute_result",
          "data": {
            "text/html": [
              "<div>\n",
              "<style scoped>\n",
              "    .dataframe tbody tr th:only-of-type {\n",
              "        vertical-align: middle;\n",
              "    }\n",
              "\n",
              "    .dataframe tbody tr th {\n",
              "        vertical-align: top;\n",
              "    }\n",
              "\n",
              "    .dataframe thead th {\n",
              "        text-align: right;\n",
              "    }\n",
              "</style>\n",
              "<table border=\"1\" class=\"dataframe\">\n",
              "  <thead>\n",
              "    <tr style=\"text-align: right;\">\n",
              "      <th></th>\n",
              "      <th>pclass</th>\n",
              "      <th>survived</th>\n",
              "      <th>age</th>\n",
              "      <th>sibsp</th>\n",
              "      <th>parch</th>\n",
              "      <th>fare</th>\n",
              "      <th>body</th>\n",
              "    </tr>\n",
              "  </thead>\n",
              "  <tbody>\n",
              "    <tr>\n",
              "      <th>0</th>\n",
              "      <td>-1.545507</td>\n",
              "      <td>1.271520</td>\n",
              "      <td>-6.839435e-02</td>\n",
              "      <td>-0.478904</td>\n",
              "      <td>-0.444829</td>\n",
              "      <td>3.439849</td>\n",
              "      <td>NaN</td>\n",
              "    </tr>\n",
              "    <tr>\n",
              "      <th>1</th>\n",
              "      <td>-1.545507</td>\n",
              "      <td>1.271520</td>\n",
              "      <td>-2.247978e+00</td>\n",
              "      <td>0.481104</td>\n",
              "      <td>1.865813</td>\n",
              "      <td>2.284729</td>\n",
              "      <td>NaN</td>\n",
              "    </tr>\n",
              "    <tr>\n",
              "      <th>2</th>\n",
              "      <td>-1.545507</td>\n",
              "      <td>-0.785859</td>\n",
              "      <td>-2.164148e+00</td>\n",
              "      <td>0.481104</td>\n",
              "      <td>1.865813</td>\n",
              "      <td>2.284729</td>\n",
              "      <td>NaN</td>\n",
              "    </tr>\n",
              "    <tr>\n",
              "      <th>3</th>\n",
              "      <td>-1.545507</td>\n",
              "      <td>-0.785859</td>\n",
              "      <td>9.226155e-03</td>\n",
              "      <td>0.481104</td>\n",
              "      <td>1.865813</td>\n",
              "      <td>2.284729</td>\n",
              "      <td>-0.264184</td>\n",
              "    </tr>\n",
              "    <tr>\n",
              "      <th>4</th>\n",
              "      <td>-1.545507</td>\n",
              "      <td>-0.785859</td>\n",
              "      <td>-3.788764e-01</td>\n",
              "      <td>0.481104</td>\n",
              "      <td>1.865813</td>\n",
              "      <td>2.284729</td>\n",
              "      <td>NaN</td>\n",
              "    </tr>\n",
              "    <tr>\n",
              "      <th>...</th>\n",
              "      <td>...</td>\n",
              "      <td>...</td>\n",
              "      <td>...</td>\n",
              "      <td>...</td>\n",
              "      <td>...</td>\n",
              "      <td>...</td>\n",
              "      <td>...</td>\n",
              "    </tr>\n",
              "    <tr>\n",
              "      <th>1304</th>\n",
              "      <td>0.841595</td>\n",
              "      <td>-0.785859</td>\n",
              "      <td>-1.193892e+00</td>\n",
              "      <td>0.481104</td>\n",
              "      <td>-0.444829</td>\n",
              "      <td>-0.364022</td>\n",
              "      <td>1.711314</td>\n",
              "    </tr>\n",
              "    <tr>\n",
              "      <th>1305</th>\n",
              "      <td>0.841595</td>\n",
              "      <td>-0.785859</td>\n",
              "      <td>2.481871e-15</td>\n",
              "      <td>0.481104</td>\n",
              "      <td>-0.444829</td>\n",
              "      <td>-0.364022</td>\n",
              "      <td>NaN</td>\n",
              "    </tr>\n",
              "    <tr>\n",
              "      <th>1306</th>\n",
              "      <td>0.841595</td>\n",
              "      <td>-0.785859</td>\n",
              "      <td>-2.624456e-01</td>\n",
              "      <td>-0.478904</td>\n",
              "      <td>-0.444829</td>\n",
              "      <td>-0.503693</td>\n",
              "      <td>1.465656</td>\n",
              "    </tr>\n",
              "    <tr>\n",
              "      <th>1307</th>\n",
              "      <td>0.841595</td>\n",
              "      <td>-0.785859</td>\n",
              "      <td>-2.236354e-01</td>\n",
              "      <td>-0.478904</td>\n",
              "      <td>-0.444829</td>\n",
              "      <td>-0.503693</td>\n",
              "      <td>NaN</td>\n",
              "    </tr>\n",
              "    <tr>\n",
              "      <th>1308</th>\n",
              "      <td>0.841595</td>\n",
              "      <td>-0.785859</td>\n",
              "      <td>-6.839435e-02</td>\n",
              "      <td>-0.478904</td>\n",
              "      <td>-0.444829</td>\n",
              "      <td>-0.491135</td>\n",
              "      <td>NaN</td>\n",
              "    </tr>\n",
              "  </tbody>\n",
              "</table>\n",
              "<p>1309 rows × 7 columns</p>\n",
              "</div>"
            ],
            "text/plain": [
              "        pclass  survived           age     sibsp     parch      fare      body\n",
              "0    -1.545507  1.271520 -6.839435e-02 -0.478904 -0.444829  3.439849       NaN\n",
              "1    -1.545507  1.271520 -2.247978e+00  0.481104  1.865813  2.284729       NaN\n",
              "2    -1.545507 -0.785859 -2.164148e+00  0.481104  1.865813  2.284729       NaN\n",
              "3    -1.545507 -0.785859  9.226155e-03  0.481104  1.865813  2.284729 -0.264184\n",
              "4    -1.545507 -0.785859 -3.788764e-01  0.481104  1.865813  2.284729       NaN\n",
              "...        ...       ...           ...       ...       ...       ...       ...\n",
              "1304  0.841595 -0.785859 -1.193892e+00  0.481104 -0.444829 -0.364022  1.711314\n",
              "1305  0.841595 -0.785859  2.481871e-15  0.481104 -0.444829 -0.364022       NaN\n",
              "1306  0.841595 -0.785859 -2.624456e-01 -0.478904 -0.444829 -0.503693  1.465656\n",
              "1307  0.841595 -0.785859 -2.236354e-01 -0.478904 -0.444829 -0.503693       NaN\n",
              "1308  0.841595 -0.785859 -6.839435e-02 -0.478904 -0.444829 -0.491135       NaN\n",
              "\n",
              "[1309 rows x 7 columns]"
            ]
          },
          "metadata": {
            "tags": []
          },
          "execution_count": 92
        }
      ]
    },
    {
      "cell_type": "markdown",
      "metadata": {
        "id": "wB9-5x83mFAO",
        "colab_type": "text"
      },
      "source": [
        "\n",
        "\n",
        "---\n",
        "2. Drop the original age, fare columns\n",
        "3. Append the normalized columns to the titanic_data_new DataFrame.\n",
        "\n",
        "\n",
        "\n",
        "---\n",
        "\n"
      ]
    },
    {
      "cell_type": "code",
      "metadata": {
        "id": "Kb00kM0onQJy",
        "colab_type": "code",
        "colab": {
          "base_uri": "https://localhost:8080/",
          "height": 402
        },
        "outputId": "50332163-50c0-4a20-9bd2-50020a291694"
      },
      "source": [
        "titanic_data_new.drop([\"age\",\"fare\"],axis=1,inplace=True)\n",
        "titanic_data_new=pd.concat([titanic_data_new,normalised_df],axis=1)\n",
        "titanic_data_new"
      ],
      "execution_count": 93,
      "outputs": [
        {
          "output_type": "execute_result",
          "data": {
            "text/html": [
              "<div>\n",
              "<style scoped>\n",
              "    .dataframe tbody tr th:only-of-type {\n",
              "        vertical-align: middle;\n",
              "    }\n",
              "\n",
              "    .dataframe tbody tr th {\n",
              "        vertical-align: top;\n",
              "    }\n",
              "\n",
              "    .dataframe thead th {\n",
              "        text-align: right;\n",
              "    }\n",
              "</style>\n",
              "<table border=\"1\" class=\"dataframe\">\n",
              "  <thead>\n",
              "    <tr style=\"text-align: right;\">\n",
              "      <th></th>\n",
              "      <th>Sex_female</th>\n",
              "      <th>Sex_male</th>\n",
              "      <th>embarked_C</th>\n",
              "      <th>embarked_Q</th>\n",
              "      <th>embarked_S</th>\n",
              "      <th>pclass_1</th>\n",
              "      <th>pclass_2</th>\n",
              "      <th>pclass_3</th>\n",
              "      <th>pclass</th>\n",
              "      <th>survived</th>\n",
              "      <th>age</th>\n",
              "      <th>sibsp</th>\n",
              "      <th>parch</th>\n",
              "      <th>fare</th>\n",
              "      <th>body</th>\n",
              "    </tr>\n",
              "  </thead>\n",
              "  <tbody>\n",
              "    <tr>\n",
              "      <th>0</th>\n",
              "      <td>1</td>\n",
              "      <td>0</td>\n",
              "      <td>0</td>\n",
              "      <td>0</td>\n",
              "      <td>1</td>\n",
              "      <td>1</td>\n",
              "      <td>0</td>\n",
              "      <td>0</td>\n",
              "      <td>-1.545507</td>\n",
              "      <td>1.271520</td>\n",
              "      <td>-6.839435e-02</td>\n",
              "      <td>-0.478904</td>\n",
              "      <td>-0.444829</td>\n",
              "      <td>3.439849</td>\n",
              "      <td>NaN</td>\n",
              "    </tr>\n",
              "    <tr>\n",
              "      <th>1</th>\n",
              "      <td>0</td>\n",
              "      <td>1</td>\n",
              "      <td>0</td>\n",
              "      <td>0</td>\n",
              "      <td>1</td>\n",
              "      <td>1</td>\n",
              "      <td>0</td>\n",
              "      <td>0</td>\n",
              "      <td>-1.545507</td>\n",
              "      <td>1.271520</td>\n",
              "      <td>-2.247978e+00</td>\n",
              "      <td>0.481104</td>\n",
              "      <td>1.865813</td>\n",
              "      <td>2.284729</td>\n",
              "      <td>NaN</td>\n",
              "    </tr>\n",
              "    <tr>\n",
              "      <th>2</th>\n",
              "      <td>1</td>\n",
              "      <td>0</td>\n",
              "      <td>0</td>\n",
              "      <td>0</td>\n",
              "      <td>1</td>\n",
              "      <td>1</td>\n",
              "      <td>0</td>\n",
              "      <td>0</td>\n",
              "      <td>-1.545507</td>\n",
              "      <td>-0.785859</td>\n",
              "      <td>-2.164148e+00</td>\n",
              "      <td>0.481104</td>\n",
              "      <td>1.865813</td>\n",
              "      <td>2.284729</td>\n",
              "      <td>NaN</td>\n",
              "    </tr>\n",
              "    <tr>\n",
              "      <th>3</th>\n",
              "      <td>0</td>\n",
              "      <td>1</td>\n",
              "      <td>0</td>\n",
              "      <td>0</td>\n",
              "      <td>1</td>\n",
              "      <td>1</td>\n",
              "      <td>0</td>\n",
              "      <td>0</td>\n",
              "      <td>-1.545507</td>\n",
              "      <td>-0.785859</td>\n",
              "      <td>9.226155e-03</td>\n",
              "      <td>0.481104</td>\n",
              "      <td>1.865813</td>\n",
              "      <td>2.284729</td>\n",
              "      <td>-0.264184</td>\n",
              "    </tr>\n",
              "    <tr>\n",
              "      <th>4</th>\n",
              "      <td>1</td>\n",
              "      <td>0</td>\n",
              "      <td>0</td>\n",
              "      <td>0</td>\n",
              "      <td>1</td>\n",
              "      <td>1</td>\n",
              "      <td>0</td>\n",
              "      <td>0</td>\n",
              "      <td>-1.545507</td>\n",
              "      <td>-0.785859</td>\n",
              "      <td>-3.788764e-01</td>\n",
              "      <td>0.481104</td>\n",
              "      <td>1.865813</td>\n",
              "      <td>2.284729</td>\n",
              "      <td>NaN</td>\n",
              "    </tr>\n",
              "    <tr>\n",
              "      <th>...</th>\n",
              "      <td>...</td>\n",
              "      <td>...</td>\n",
              "      <td>...</td>\n",
              "      <td>...</td>\n",
              "      <td>...</td>\n",
              "      <td>...</td>\n",
              "      <td>...</td>\n",
              "      <td>...</td>\n",
              "      <td>...</td>\n",
              "      <td>...</td>\n",
              "      <td>...</td>\n",
              "      <td>...</td>\n",
              "      <td>...</td>\n",
              "      <td>...</td>\n",
              "      <td>...</td>\n",
              "    </tr>\n",
              "    <tr>\n",
              "      <th>1304</th>\n",
              "      <td>1</td>\n",
              "      <td>0</td>\n",
              "      <td>1</td>\n",
              "      <td>0</td>\n",
              "      <td>0</td>\n",
              "      <td>0</td>\n",
              "      <td>0</td>\n",
              "      <td>1</td>\n",
              "      <td>0.841595</td>\n",
              "      <td>-0.785859</td>\n",
              "      <td>-1.193892e+00</td>\n",
              "      <td>0.481104</td>\n",
              "      <td>-0.444829</td>\n",
              "      <td>-0.364022</td>\n",
              "      <td>1.711314</td>\n",
              "    </tr>\n",
              "    <tr>\n",
              "      <th>1305</th>\n",
              "      <td>1</td>\n",
              "      <td>0</td>\n",
              "      <td>1</td>\n",
              "      <td>0</td>\n",
              "      <td>0</td>\n",
              "      <td>0</td>\n",
              "      <td>0</td>\n",
              "      <td>1</td>\n",
              "      <td>0.841595</td>\n",
              "      <td>-0.785859</td>\n",
              "      <td>2.481871e-15</td>\n",
              "      <td>0.481104</td>\n",
              "      <td>-0.444829</td>\n",
              "      <td>-0.364022</td>\n",
              "      <td>NaN</td>\n",
              "    </tr>\n",
              "    <tr>\n",
              "      <th>1306</th>\n",
              "      <td>0</td>\n",
              "      <td>1</td>\n",
              "      <td>1</td>\n",
              "      <td>0</td>\n",
              "      <td>0</td>\n",
              "      <td>0</td>\n",
              "      <td>0</td>\n",
              "      <td>1</td>\n",
              "      <td>0.841595</td>\n",
              "      <td>-0.785859</td>\n",
              "      <td>-2.624456e-01</td>\n",
              "      <td>-0.478904</td>\n",
              "      <td>-0.444829</td>\n",
              "      <td>-0.503693</td>\n",
              "      <td>1.465656</td>\n",
              "    </tr>\n",
              "    <tr>\n",
              "      <th>1307</th>\n",
              "      <td>0</td>\n",
              "      <td>1</td>\n",
              "      <td>1</td>\n",
              "      <td>0</td>\n",
              "      <td>0</td>\n",
              "      <td>0</td>\n",
              "      <td>0</td>\n",
              "      <td>1</td>\n",
              "      <td>0.841595</td>\n",
              "      <td>-0.785859</td>\n",
              "      <td>-2.236354e-01</td>\n",
              "      <td>-0.478904</td>\n",
              "      <td>-0.444829</td>\n",
              "      <td>-0.503693</td>\n",
              "      <td>NaN</td>\n",
              "    </tr>\n",
              "    <tr>\n",
              "      <th>1308</th>\n",
              "      <td>0</td>\n",
              "      <td>1</td>\n",
              "      <td>0</td>\n",
              "      <td>0</td>\n",
              "      <td>1</td>\n",
              "      <td>0</td>\n",
              "      <td>0</td>\n",
              "      <td>1</td>\n",
              "      <td>0.841595</td>\n",
              "      <td>-0.785859</td>\n",
              "      <td>-6.839435e-02</td>\n",
              "      <td>-0.478904</td>\n",
              "      <td>-0.444829</td>\n",
              "      <td>-0.491135</td>\n",
              "      <td>NaN</td>\n",
              "    </tr>\n",
              "  </tbody>\n",
              "</table>\n",
              "<p>1309 rows × 15 columns</p>\n",
              "</div>"
            ],
            "text/plain": [
              "      Sex_female  Sex_male  embarked_C  ...     parch      fare      body\n",
              "0              1         0           0  ... -0.444829  3.439849       NaN\n",
              "1              0         1           0  ...  1.865813  2.284729       NaN\n",
              "2              1         0           0  ...  1.865813  2.284729       NaN\n",
              "3              0         1           0  ...  1.865813  2.284729 -0.264184\n",
              "4              1         0           0  ...  1.865813  2.284729       NaN\n",
              "...          ...       ...         ...  ...       ...       ...       ...\n",
              "1304           1         0           1  ... -0.444829 -0.364022  1.711314\n",
              "1305           1         0           1  ... -0.444829 -0.364022       NaN\n",
              "1306           0         1           1  ... -0.444829 -0.503693  1.465656\n",
              "1307           0         1           1  ... -0.444829 -0.503693       NaN\n",
              "1308           0         1           0  ... -0.444829 -0.491135       NaN\n",
              "\n",
              "[1309 rows x 15 columns]"
            ]
          },
          "metadata": {
            "tags": []
          },
          "execution_count": 93
        }
      ]
    },
    {
      "cell_type": "code",
      "metadata": {
        "id": "S3Nsyh_3JNyG",
        "colab_type": "code",
        "colab": {
          "base_uri": "https://localhost:8080/",
          "height": 386
        },
        "outputId": "090f633e-bef1-41dc-946f-949f281883a8"
      },
      "source": [
        "titanic_data_new.info()"
      ],
      "execution_count": 94,
      "outputs": [
        {
          "output_type": "stream",
          "text": [
            "<class 'pandas.core.frame.DataFrame'>\n",
            "RangeIndex: 1309 entries, 0 to 1308\n",
            "Data columns (total 15 columns):\n",
            " #   Column      Non-Null Count  Dtype  \n",
            "---  ------      --------------  -----  \n",
            " 0   Sex_female  1309 non-null   uint8  \n",
            " 1   Sex_male    1309 non-null   uint8  \n",
            " 2   embarked_C  1309 non-null   uint8  \n",
            " 3   embarked_Q  1309 non-null   uint8  \n",
            " 4   embarked_S  1309 non-null   uint8  \n",
            " 5   pclass_1    1309 non-null   uint8  \n",
            " 6   pclass_2    1309 non-null   uint8  \n",
            " 7   pclass_3    1309 non-null   uint8  \n",
            " 8   pclass      1309 non-null   float64\n",
            " 9   survived    1309 non-null   float64\n",
            " 10  age         1309 non-null   float64\n",
            " 11  sibsp       1309 non-null   float64\n",
            " 12  parch       1309 non-null   float64\n",
            " 13  fare        1308 non-null   float64\n",
            " 14  body        121 non-null    float64\n",
            "dtypes: float64(7), uint8(8)\n",
            "memory usage: 81.9 KB\n"
          ],
          "name": "stdout"
        }
      ]
    },
    {
      "cell_type": "markdown",
      "metadata": {
        "id": "uLxN3PozntKe",
        "colab_type": "text"
      },
      "source": [
        "###Plotting\n",
        "1. plot the age against the ID(continuous)\n",
        "2. plot the fare against the ID(scatter)"
      ]
    },
    {
      "cell_type": "code",
      "metadata": {
        "id": "LdSfNEKYn_RO",
        "colab_type": "code",
        "colab": {
          "base_uri": "https://localhost:8080/",
          "height": 295
        },
        "outputId": "a989b45a-8ab4-44c5-eb54-7301d6096856"
      },
      "source": [
        "import matplotlib.pyplot as plt\n",
        "ID=np.array(titanic.index)\n",
        "age=titanic_data_new['age']\n",
        "plt.xlabel(\"ID\")\n",
        "plt.ylabel(\"Age\")\n",
        "plt.title(\"Age against the ID\")\n",
        "plt.plot(ID,age)\n",
        "plt.show()"
      ],
      "execution_count": 95,
      "outputs": [
        {
          "output_type": "display_data",
          "data": {
            "image/png": "[encoded data removed]",
            "text/plain": [
              "<Figure size 432x288 with 1 Axes>"
            ]
          },
          "metadata": {
            "tags": [],
            "needs_background": "light"
          }
        }
      ]
    },
    {
      "cell_type": "code",
      "metadata": {
        "id": "obu28BfK6Qa8",
        "colab_type": "code",
        "colab": {
          "base_uri": "https://localhost:8080/",
          "height": 295
        },
        "outputId": "ccc495b0-cdcf-40e1-f27b-b5c733e2652b"
      },
      "source": [
        "fare=titanic_data_new['fare']\n",
        "plt.xlabel(\"ID\")\n",
        "plt.ylabel(\"fare\")\n",
        "plt.title(\"fare against the ID\")\n",
        "plt.scatter(ID,fare)\n",
        "plt.show()"
      ],
      "execution_count": 96,
      "outputs": [
        {
          "output_type": "display_data",
          "data": {
            "image/png": "[encoded data removed]",
            "text/plain": [
              "<Figure size 432x288 with 1 Axes>"
            ]
          },
          "metadata": {
            "tags": [],
            "needs_background": "light"
          }
        }
      ]
    },
    {
      "cell_type": "markdown",
      "metadata": {
        "id": "LQr7y6eevTvy",
        "colab_type": "text"
      },
      "source": [
        "## End of Part - 2\n",
        "---"
      ]
    },
    {
      "cell_type": "markdown",
      "metadata": {
        "id": "TWhZcKvfvW2B",
        "colab_type": "text"
      },
      "source": [
        "## Part - 3\n",
        "---"
      ]
    },
    {
      "cell_type": "markdown",
      "metadata": {
        "id": "8bY4H9DszQ2S",
        "colab_type": "text"
      },
      "source": [
        "In this part, you will work with the library ```matplotlib```. Import the ```pyplot``` from ```matplotlib``` with an alias name ```plt```."
      ]
    },
    {
      "cell_type": "code",
      "metadata": {
        "id": "hPN6qctRzknT",
        "colab_type": "code",
        "colab": {}
      },
      "source": [
        "from matplotlib import pyplot as plt\n",
        "import numpy as np"
      ],
      "execution_count": 0,
      "outputs": []
    },
    {
      "cell_type": "markdown",
      "metadata": {
        "id": "fQ6KX_Aezlub",
        "colab_type": "text"
      },
      "source": [
        "Plot the sine function with domain in $[-3\\pi,3\\pi]$. Label the axes appropriately. Add title $\\sin(x)$. Use latex formatting while adding the title. Set the plot size to (10,10)"
      ]
    },
    {
      "cell_type": "code",
      "metadata": {
        "id": "0tA3J5mA1cQ0",
        "colab_type": "code",
        "colab": {
          "base_uri": "https://localhost:8080/",
          "height": 623
        },
        "outputId": "863bd5cf-815e-4826-9747-c8b97b223998"
      },
      "source": [
        "x=np.arange(-3*np.pi,3*np.pi,0.1)\n",
        "y=np.sin(x)\n",
        "plt.figure(figsize=(10,10))\n",
        "plt.plot(x,y)\n",
        "plt.xlabel(\"x varies from -3pi to 3pi\")\n",
        "plt.ylabel(\"y varies from -1 to 1\")\n",
        "plt.title(\"$\\sin(x)$\")\n",
        "plt.show()"
      ],
      "execution_count": 98,
      "outputs": [
        {
          "output_type": "display_data",
          "data": {
            "image/png": "[encoded data removed]",
            "text/plain": [
              "<Figure size 720x720 with 1 Axes>"
            ]
          },
          "metadata": {
            "tags": [],
            "needs_background": "light"
          }
        }
      ]
    },
    {
      "cell_type": "markdown",
      "metadata": {
        "id": "6KV7RqMm1d8P",
        "colab_type": "text"
      },
      "source": [
        "Plot $\\sin(x)$ and its spectrum, $\\cos(x)$ and its spectrum in a single plot, in the domain $[-2\\pi,2\\pi]$. Label the plot appropriately."
      ]
    },
    {
      "cell_type": "code",
      "metadata": {
        "id": "-OJuY0HO12Oo",
        "colab_type": "code",
        "colab": {
          "base_uri": "https://localhost:8080/",
          "height": 348
        },
        "outputId": "0f4be851-b9b1-467d-fd55-444462b0c4ed"
      },
      "source": [
        "fig,ax=plt.subplots(nrows=2,ncols=2)\n",
        "x=np.linspace(-2*np.pi,2*np.pi,300)\n",
        "y1=np.sin(x)\n",
        "ax[0,0].set_title(\"sin(x)\")\n",
        "ax[0,0].plot(x,y1)\n",
        "ax[0,1].set_title(\"sin(x) spectrum\")\n",
        "ax[0,1].plot(x,np.fft.fft(y1))\n",
        "y2=np.cos(x)\n",
        "ax[1,0].set_title(\"cos(x)\")\n",
        "ax[1,1].set_title(\"cos(x) spectrum\")\n",
        "ax[1,0].plot(x,y2)\n",
        "ax[1,1].plot(x,np.fft.fft(y2))\n",
        "fig.show()\n"
      ],
      "execution_count": 99,
      "outputs": [
        {
          "output_type": "stream",
          "text": [
            "/usr/local/lib/python3.6/dist-packages/numpy/core/_asarray.py:85: ComplexWarning: Casting complex values to real discards the imaginary part\n",
            "  return array(a, dtype, copy=False, order=order)\n",
            "/usr/local/lib/python3.6/dist-packages/numpy/core/_asarray.py:85: ComplexWarning: Casting complex values to real discards the imaginary part\n",
            "  return array(a, dtype, copy=False, order=order)\n"
          ],
          "name": "stderr"
        },
        {
          "output_type": "display_data",
          "data": {
            "image/png": "[encoded data removed]",
            "text/plain": [
              "<Figure size 432x288 with 4 Axes>"
            ]
          },
          "metadata": {
            "tags": [],
            "needs_background": "light"
          }
        }
      ]
    },
    {
      "cell_type": "markdown",
      "metadata": {
        "id": "1S6ZRm6B18ZF",
        "colab_type": "text"
      },
      "source": [
        "## End of Part - 3\n",
        "---"
      ]
    },
    {
      "cell_type": "markdown",
      "metadata": {
        "id": "MUucpzXBl096",
        "colab_type": "text"
      },
      "source": [
        "Create a Github repository with the name ***SHALA2020*** and save this assignment there."
      ]
    },
    {
      "cell_type": "code",
      "metadata": {
        "id": "os9CGUmkN2a1",
        "colab_type": "code",
        "colab": {}
      },
      "source": [
        ""
      ],
      "execution_count": 0,
      "outputs": []
    }
  ]
}
